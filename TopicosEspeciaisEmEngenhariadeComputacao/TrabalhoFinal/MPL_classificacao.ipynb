{
 "cells": [
  {
   "cell_type": "code",
   "execution_count": 1,
   "metadata": {},
   "outputs": [],
   "source": [
    "#importando bibliotecas\n",
    "\n",
    "import numpy as np  #biblioteca para manipulação de arrays numéricos\n",
    "import pandas as pd #biblioteca para manipulação e análise de dados em formato tabular.\n",
    "import matplotlib.pyplot as plt #iblioteca para criação de gráficos e visualizações.\n",
    "import seaborn as sns #biblioteca de visualização estatística baseada no matplotlib.\n",
    "\n",
    "from sklearn.preprocessing import StandardScaler #classe para normalização dos dados.\n",
    "from sklearn.model_selection import train_test_split #função para dividir os dados em conjuntos de treino e teste.\n",
    "from sklearn.metrics import accuracy_score #função para calcular a acurácia do modelo.\n",
    "from sklearn.neural_network import MLPClassifier #classe para criação de uma rede neural MLP para classificação.\n",
    "from sklearn.metrics import classification_report #função para gerar um relatório de classificação.\n",
    "from sklearn.metrics import confusion_matrix #função para criar a matriz de confusão."
   ]
  },
  {
   "cell_type": "code",
   "execution_count": 3,
   "metadata": {},
   "outputs": [
    {
     "data": {
      "text/html": [
       "<div>\n",
       "<style scoped>\n",
       "    .dataframe tbody tr th:only-of-type {\n",
       "        vertical-align: middle;\n",
       "    }\n",
       "\n",
       "    .dataframe tbody tr th {\n",
       "        vertical-align: top;\n",
       "    }\n",
       "\n",
       "    .dataframe thead th {\n",
       "        text-align: right;\n",
       "    }\n",
       "</style>\n",
       "<table border=\"1\" class=\"dataframe\">\n",
       "  <thead>\n",
       "    <tr style=\"text-align: right;\">\n",
       "      <th></th>\n",
       "      <th>erythema</th>\n",
       "      <th>scaling</th>\n",
       "      <th>definite_borders</th>\n",
       "      <th>itching</th>\n",
       "      <th>koebner_phenomenon</th>\n",
       "      <th>polygonal_papules</th>\n",
       "      <th>follicular_papules</th>\n",
       "      <th>oral_mucosal_involvement</th>\n",
       "      <th>knee_and_elbow_involvement</th>\n",
       "      <th>scalp_involvement</th>\n",
       "      <th>...</th>\n",
       "      <th>disappearance_granular_layer</th>\n",
       "      <th>vacuolisation_damage_basal_layer</th>\n",
       "      <th>spongiosis</th>\n",
       "      <th>saw_tooth_appearance_retes</th>\n",
       "      <th>follicular_horn_plug</th>\n",
       "      <th>perifollicular_parakeratosis</th>\n",
       "      <th>inflammatory_mononuclear_infiltrate</th>\n",
       "      <th>band_like_infiltrate</th>\n",
       "      <th>age</th>\n",
       "      <th>class</th>\n",
       "    </tr>\n",
       "  </thead>\n",
       "  <tbody>\n",
       "    <tr>\n",
       "      <th>0</th>\n",
       "      <td>2</td>\n",
       "      <td>2</td>\n",
       "      <td>0</td>\n",
       "      <td>3</td>\n",
       "      <td>0</td>\n",
       "      <td>0</td>\n",
       "      <td>0</td>\n",
       "      <td>0</td>\n",
       "      <td>1</td>\n",
       "      <td>0</td>\n",
       "      <td>...</td>\n",
       "      <td>0</td>\n",
       "      <td>0</td>\n",
       "      <td>3</td>\n",
       "      <td>0</td>\n",
       "      <td>0</td>\n",
       "      <td>0</td>\n",
       "      <td>1</td>\n",
       "      <td>0</td>\n",
       "      <td>55</td>\n",
       "      <td>2</td>\n",
       "    </tr>\n",
       "    <tr>\n",
       "      <th>1</th>\n",
       "      <td>3</td>\n",
       "      <td>3</td>\n",
       "      <td>3</td>\n",
       "      <td>2</td>\n",
       "      <td>1</td>\n",
       "      <td>0</td>\n",
       "      <td>0</td>\n",
       "      <td>0</td>\n",
       "      <td>1</td>\n",
       "      <td>1</td>\n",
       "      <td>...</td>\n",
       "      <td>0</td>\n",
       "      <td>0</td>\n",
       "      <td>0</td>\n",
       "      <td>0</td>\n",
       "      <td>0</td>\n",
       "      <td>0</td>\n",
       "      <td>1</td>\n",
       "      <td>0</td>\n",
       "      <td>8</td>\n",
       "      <td>1</td>\n",
       "    </tr>\n",
       "    <tr>\n",
       "      <th>2</th>\n",
       "      <td>2</td>\n",
       "      <td>1</td>\n",
       "      <td>2</td>\n",
       "      <td>3</td>\n",
       "      <td>1</td>\n",
       "      <td>3</td>\n",
       "      <td>0</td>\n",
       "      <td>3</td>\n",
       "      <td>0</td>\n",
       "      <td>0</td>\n",
       "      <td>...</td>\n",
       "      <td>0</td>\n",
       "      <td>2</td>\n",
       "      <td>3</td>\n",
       "      <td>2</td>\n",
       "      <td>0</td>\n",
       "      <td>0</td>\n",
       "      <td>2</td>\n",
       "      <td>3</td>\n",
       "      <td>26</td>\n",
       "      <td>3</td>\n",
       "    </tr>\n",
       "    <tr>\n",
       "      <th>3</th>\n",
       "      <td>2</td>\n",
       "      <td>2</td>\n",
       "      <td>2</td>\n",
       "      <td>0</td>\n",
       "      <td>0</td>\n",
       "      <td>0</td>\n",
       "      <td>0</td>\n",
       "      <td>0</td>\n",
       "      <td>3</td>\n",
       "      <td>2</td>\n",
       "      <td>...</td>\n",
       "      <td>3</td>\n",
       "      <td>0</td>\n",
       "      <td>0</td>\n",
       "      <td>0</td>\n",
       "      <td>0</td>\n",
       "      <td>0</td>\n",
       "      <td>3</td>\n",
       "      <td>0</td>\n",
       "      <td>40</td>\n",
       "      <td>1</td>\n",
       "    </tr>\n",
       "    <tr>\n",
       "      <th>4</th>\n",
       "      <td>2</td>\n",
       "      <td>3</td>\n",
       "      <td>2</td>\n",
       "      <td>2</td>\n",
       "      <td>2</td>\n",
       "      <td>2</td>\n",
       "      <td>0</td>\n",
       "      <td>2</td>\n",
       "      <td>0</td>\n",
       "      <td>0</td>\n",
       "      <td>...</td>\n",
       "      <td>2</td>\n",
       "      <td>3</td>\n",
       "      <td>2</td>\n",
       "      <td>3</td>\n",
       "      <td>0</td>\n",
       "      <td>0</td>\n",
       "      <td>2</td>\n",
       "      <td>3</td>\n",
       "      <td>45</td>\n",
       "      <td>3</td>\n",
       "    </tr>\n",
       "  </tbody>\n",
       "</table>\n",
       "<p>5 rows × 35 columns</p>\n",
       "</div>"
      ],
      "text/plain": [
       "   erythema  scaling  definite_borders  itching  koebner_phenomenon  \\\n",
       "0         2        2                 0        3                   0   \n",
       "1         3        3                 3        2                   1   \n",
       "2         2        1                 2        3                   1   \n",
       "3         2        2                 2        0                   0   \n",
       "4         2        3                 2        2                   2   \n",
       "\n",
       "   polygonal_papules  follicular_papules  oral_mucosal_involvement  \\\n",
       "0                  0                   0                         0   \n",
       "1                  0                   0                         0   \n",
       "2                  3                   0                         3   \n",
       "3                  0                   0                         0   \n",
       "4                  2                   0                         2   \n",
       "\n",
       "   knee_and_elbow_involvement  scalp_involvement  ...  \\\n",
       "0                           1                  0  ...   \n",
       "1                           1                  1  ...   \n",
       "2                           0                  0  ...   \n",
       "3                           3                  2  ...   \n",
       "4                           0                  0  ...   \n",
       "\n",
       "   disappearance_granular_layer  vacuolisation_damage_basal_layer  spongiosis  \\\n",
       "0                             0                                 0           3   \n",
       "1                             0                                 0           0   \n",
       "2                             0                                 2           3   \n",
       "3                             3                                 0           0   \n",
       "4                             2                                 3           2   \n",
       "\n",
       "   saw_tooth_appearance_retes  follicular_horn_plug  \\\n",
       "0                           0                     0   \n",
       "1                           0                     0   \n",
       "2                           2                     0   \n",
       "3                           0                     0   \n",
       "4                           3                     0   \n",
       "\n",
       "   perifollicular_parakeratosis  inflammatory_mononuclear_infiltrate  \\\n",
       "0                             0                                    1   \n",
       "1                             0                                    1   \n",
       "2                             0                                    2   \n",
       "3                             0                                    3   \n",
       "4                             0                                    2   \n",
       "\n",
       "   band_like_infiltrate  age  class  \n",
       "0                     0   55      2  \n",
       "1                     0    8      1  \n",
       "2                     3   26      3  \n",
       "3                     0   40      1  \n",
       "4                     3   45      3  \n",
       "\n",
       "[5 rows x 35 columns]"
      ]
     },
     "execution_count": 3,
     "metadata": {},
     "output_type": "execute_result"
    }
   ],
   "source": [
    "#carregando o conjunto de dados \"dermatology.csv\" usando o pandas \n",
    "#e exibindo as 5 primeiras linhas.\n",
    "dermatology = pd.read_csv('dermatology.csv')\n",
    "dermatology.head()"
   ]
  },
  {
   "cell_type": "code",
   "execution_count": 4,
   "metadata": {},
   "outputs": [],
   "source": [
    "#pré-processamento dos dados\n",
    "\n",
    "#tratando os dados pois existe o caracter \"?\" no banco, mas a biblioteca não o reconhece\n",
    "dermatology.replace('?', np.nan, inplace=True) #substituição do caractere \"?\" por valores nulos\n",
    "dermatology_data = dermatology.astype(float) #convertendo os dados para o tipo float\n",
    "dermatology_data.fillna(dermatology_data.mean(), inplace=True) #preenchimento dos valores ausentes com a média dos respectivos atributos"
   ]
  },
  {
   "cell_type": "code",
   "execution_count": 5,
   "metadata": {},
   "outputs": [],
   "source": [
    "#separação dos recursos de entrada (x) e da variável de destino (y)\n",
    "x = dermatology_data.drop('class', axis=1)  #recursos de entrada\n",
    "y = dermatology_data['class'] #variável de destino"
   ]
  },
  {
   "cell_type": "code",
   "execution_count": 6,
   "metadata": {},
   "outputs": [],
   "source": [
    "#normalizando os dados de entrada usando a classe StandardScaler\n",
    "scaler = StandardScaler()   \n",
    "x_norm = scaler.fit_transform(x) "
   ]
  },
  {
   "cell_type": "code",
   "execution_count": 7,
   "metadata": {},
   "outputs": [],
   "source": [
    "#dividindo os dados em conjuntos de treino e teste usando a função train_test_split\n",
    "x_training, x_test, y_training, y_test = train_test_split(x_norm, y, test_size=0.3, random_state=42) \n"
   ]
  },
  {
   "cell_type": "code",
   "execution_count": 8,
   "metadata": {},
   "outputs": [
    {
     "name": "stdout",
     "output_type": "stream",
     "text": [
      "Iteration 1, loss = 2.23252946\n",
      "Iteration 2, loss = 1.72618000\n",
      "Iteration 3, loss = 1.32052894\n",
      "Iteration 4, loss = 1.01540644\n",
      "Iteration 5, loss = 0.87363580\n",
      "Iteration 6, loss = 0.77500416\n",
      "Iteration 7, loss = 0.68489069\n",
      "Iteration 8, loss = 0.59885668\n",
      "Iteration 9, loss = 0.51730801\n",
      "Iteration 10, loss = 0.44066646\n",
      "Iteration 11, loss = 0.37441703\n",
      "Iteration 12, loss = 0.31185507\n",
      "Iteration 13, loss = 0.25707174\n",
      "Iteration 14, loss = 0.20483499\n",
      "Iteration 15, loss = 0.17258973\n",
      "Iteration 16, loss = 0.13780215\n",
      "Iteration 17, loss = 0.11637906\n",
      "Iteration 18, loss = 0.10136163\n",
      "Iteration 19, loss = 0.09137052\n",
      "Iteration 20, loss = 0.08238224\n",
      "Iteration 21, loss = 0.07495564\n",
      "Iteration 22, loss = 0.06862685\n",
      "Iteration 23, loss = 0.06336294\n",
      "Iteration 24, loss = 0.05879969\n",
      "Iteration 25, loss = 0.05502422\n",
      "Iteration 26, loss = 0.05114218\n",
      "Iteration 27, loss = 0.04845825\n",
      "Iteration 28, loss = 0.04555493\n",
      "Iteration 29, loss = 0.04263602\n",
      "Iteration 30, loss = 0.04025597\n",
      "Iteration 31, loss = 0.03832132\n",
      "Iteration 32, loss = 0.03597991\n",
      "Iteration 33, loss = 0.03471491\n",
      "Iteration 34, loss = 0.03304953\n",
      "Iteration 35, loss = 0.03059456\n",
      "Iteration 36, loss = 0.02824030\n",
      "Iteration 37, loss = 0.02673805\n",
      "Iteration 38, loss = 0.02590694\n",
      "Iteration 39, loss = 0.02563993\n",
      "Iteration 40, loss = 0.02438029\n",
      "Iteration 41, loss = 0.02295366\n",
      "Iteration 42, loss = 0.02047029\n",
      "Iteration 43, loss = 0.01999202\n",
      "Iteration 44, loss = 0.01948297\n",
      "Iteration 45, loss = 0.01804709\n",
      "Iteration 46, loss = 0.01703696\n",
      "Iteration 47, loss = 0.01714966\n",
      "Iteration 48, loss = 0.01697289\n",
      "Iteration 49, loss = 0.01523129\n",
      "Iteration 50, loss = 0.01425510\n",
      "Iteration 51, loss = 0.01382028\n",
      "Iteration 52, loss = 0.01326141\n",
      "Iteration 53, loss = 0.01254729\n",
      "Iteration 54, loss = 0.01172111\n",
      "Iteration 55, loss = 0.01136047\n",
      "Iteration 56, loss = 0.01072705\n",
      "Iteration 57, loss = 0.01006588\n",
      "Iteration 58, loss = 0.00963065\n",
      "Iteration 59, loss = 0.00924299\n",
      "Iteration 60, loss = 0.00891418\n",
      "Iteration 61, loss = 0.00837163\n",
      "Iteration 62, loss = 0.00820304\n",
      "Iteration 63, loss = 0.00768999\n",
      "Iteration 64, loss = 0.00728778\n",
      "Iteration 65, loss = 0.00695920\n",
      "Iteration 66, loss = 0.00662291\n",
      "Iteration 67, loss = 0.00627425\n",
      "Iteration 68, loss = 0.00598680\n",
      "Iteration 69, loss = 0.00574056\n",
      "Iteration 70, loss = 0.00566248\n",
      "Iteration 71, loss = 0.00525494\n",
      "Iteration 72, loss = 0.00523081\n",
      "Iteration 73, loss = 0.00503183\n",
      "Iteration 74, loss = 0.00477720\n",
      "Iteration 75, loss = 0.00449193\n",
      "Iteration 76, loss = 0.00429270\n",
      "Iteration 77, loss = 0.00418764\n",
      "Iteration 78, loss = 0.00405804\n",
      "Iteration 79, loss = 0.00394618\n",
      "Iteration 80, loss = 0.00373902\n",
      "Iteration 81, loss = 0.00361548\n",
      "Iteration 82, loss = 0.00348951\n",
      "Iteration 83, loss = 0.00337545\n",
      "Iteration 84, loss = 0.00326133\n",
      "Iteration 85, loss = 0.00315626\n",
      "Iteration 86, loss = 0.00306471\n",
      "Iteration 87, loss = 0.00299083\n",
      "Iteration 88, loss = 0.00292453\n",
      "Iteration 89, loss = 0.00284509\n",
      "Iteration 90, loss = 0.00277369\n",
      "Iteration 91, loss = 0.00264411\n",
      "Iteration 92, loss = 0.00256703\n",
      "Iteration 93, loss = 0.00249077\n",
      "Iteration 94, loss = 0.00242474\n",
      "Iteration 95, loss = 0.00237030\n",
      "Iteration 96, loss = 0.00227480\n",
      "Iteration 97, loss = 0.00220913\n",
      "Iteration 98, loss = 0.00218088\n",
      "Iteration 99, loss = 0.00215468\n",
      "Iteration 100, loss = 0.00212089\n",
      "Iteration 101, loss = 0.00209706\n",
      "Iteration 102, loss = 0.00198437\n",
      "Iteration 103, loss = 0.00191503\n",
      "Iteration 104, loss = 0.00188491\n",
      "Iteration 105, loss = 0.00185426\n",
      "Iteration 106, loss = 0.00181297\n",
      "Iteration 107, loss = 0.00177708\n",
      "Iteration 108, loss = 0.00173774\n",
      "Iteration 109, loss = 0.00170629\n",
      "Iteration 110, loss = 0.00167808\n",
      "Iteration 111, loss = 0.00164247\n",
      "Iteration 112, loss = 0.00160715\n",
      "Iteration 113, loss = 0.00156489\n",
      "Training loss did not improve more than tol=0.000100 for 10 consecutive epochs. Stopping.\n"
     ]
    },
    {
     "data": {
      "text/html": [
       "<style>#sk-container-id-1 {color: black;}#sk-container-id-1 pre{padding: 0;}#sk-container-id-1 div.sk-toggleable {background-color: white;}#sk-container-id-1 label.sk-toggleable__label {cursor: pointer;display: block;width: 100%;margin-bottom: 0;padding: 0.3em;box-sizing: border-box;text-align: center;}#sk-container-id-1 label.sk-toggleable__label-arrow:before {content: \"▸\";float: left;margin-right: 0.25em;color: #696969;}#sk-container-id-1 label.sk-toggleable__label-arrow:hover:before {color: black;}#sk-container-id-1 div.sk-estimator:hover label.sk-toggleable__label-arrow:before {color: black;}#sk-container-id-1 div.sk-toggleable__content {max-height: 0;max-width: 0;overflow: hidden;text-align: left;background-color: #f0f8ff;}#sk-container-id-1 div.sk-toggleable__content pre {margin: 0.2em;color: black;border-radius: 0.25em;background-color: #f0f8ff;}#sk-container-id-1 input.sk-toggleable__control:checked~div.sk-toggleable__content {max-height: 200px;max-width: 100%;overflow: auto;}#sk-container-id-1 input.sk-toggleable__control:checked~label.sk-toggleable__label-arrow:before {content: \"▾\";}#sk-container-id-1 div.sk-estimator input.sk-toggleable__control:checked~label.sk-toggleable__label {background-color: #d4ebff;}#sk-container-id-1 div.sk-label input.sk-toggleable__control:checked~label.sk-toggleable__label {background-color: #d4ebff;}#sk-container-id-1 input.sk-hidden--visually {border: 0;clip: rect(1px 1px 1px 1px);clip: rect(1px, 1px, 1px, 1px);height: 1px;margin: -1px;overflow: hidden;padding: 0;position: absolute;width: 1px;}#sk-container-id-1 div.sk-estimator {font-family: monospace;background-color: #f0f8ff;border: 1px dotted black;border-radius: 0.25em;box-sizing: border-box;margin-bottom: 0.5em;}#sk-container-id-1 div.sk-estimator:hover {background-color: #d4ebff;}#sk-container-id-1 div.sk-parallel-item::after {content: \"\";width: 100%;border-bottom: 1px solid gray;flex-grow: 1;}#sk-container-id-1 div.sk-label:hover label.sk-toggleable__label {background-color: #d4ebff;}#sk-container-id-1 div.sk-serial::before {content: \"\";position: absolute;border-left: 1px solid gray;box-sizing: border-box;top: 0;bottom: 0;left: 50%;z-index: 0;}#sk-container-id-1 div.sk-serial {display: flex;flex-direction: column;align-items: center;background-color: white;padding-right: 0.2em;padding-left: 0.2em;position: relative;}#sk-container-id-1 div.sk-item {position: relative;z-index: 1;}#sk-container-id-1 div.sk-parallel {display: flex;align-items: stretch;justify-content: center;background-color: white;position: relative;}#sk-container-id-1 div.sk-item::before, #sk-container-id-1 div.sk-parallel-item::before {content: \"\";position: absolute;border-left: 1px solid gray;box-sizing: border-box;top: 0;bottom: 0;left: 50%;z-index: -1;}#sk-container-id-1 div.sk-parallel-item {display: flex;flex-direction: column;z-index: 1;position: relative;background-color: white;}#sk-container-id-1 div.sk-parallel-item:first-child::after {align-self: flex-end;width: 50%;}#sk-container-id-1 div.sk-parallel-item:last-child::after {align-self: flex-start;width: 50%;}#sk-container-id-1 div.sk-parallel-item:only-child::after {width: 0;}#sk-container-id-1 div.sk-dashed-wrapped {border: 1px dashed gray;margin: 0 0.4em 0.5em 0.4em;box-sizing: border-box;padding-bottom: 0.4em;background-color: white;}#sk-container-id-1 div.sk-label label {font-family: monospace;font-weight: bold;display: inline-block;line-height: 1.2em;}#sk-container-id-1 div.sk-label-container {text-align: center;}#sk-container-id-1 div.sk-container {/* jupyter's `normalize.less` sets `[hidden] { display: none; }` but bootstrap.min.css set `[hidden] { display: none !important; }` so we also need the `!important` here to be able to override the default hidden behavior on the sphinx rendered scikit-learn.org. See: https://github.com/scikit-learn/scikit-learn/issues/21755 */display: inline-block !important;position: relative;}#sk-container-id-1 div.sk-text-repr-fallback {display: none;}</style><div id=\"sk-container-id-1\" class=\"sk-top-container\"><div class=\"sk-text-repr-fallback\"><pre>MLPClassifier(hidden_layer_sizes=(10, 5), learning_rate_init=0.1, max_iter=2000,\n",
       "              solver=&#x27;sgd&#x27;, verbose=2)</pre><b>In a Jupyter environment, please rerun this cell to show the HTML representation or trust the notebook. <br />On GitHub, the HTML representation is unable to render, please try loading this page with nbviewer.org.</b></div><div class=\"sk-container\" hidden><div class=\"sk-item\"><div class=\"sk-estimator sk-toggleable\"><input class=\"sk-toggleable__control sk-hidden--visually\" id=\"sk-estimator-id-1\" type=\"checkbox\" checked><label for=\"sk-estimator-id-1\" class=\"sk-toggleable__label sk-toggleable__label-arrow\">MLPClassifier</label><div class=\"sk-toggleable__content\"><pre>MLPClassifier(hidden_layer_sizes=(10, 5), learning_rate_init=0.1, max_iter=2000,\n",
       "              solver=&#x27;sgd&#x27;, verbose=2)</pre></div></div></div></div></div>"
      ],
      "text/plain": [
       "MLPClassifier(hidden_layer_sizes=(10, 5), learning_rate_init=0.1, max_iter=2000,\n",
       "              solver='sgd', verbose=2)"
      ]
     },
     "execution_count": 8,
     "metadata": {},
     "output_type": "execute_result"
    }
   ],
   "source": [
    "#criando a rede neural MLP usando a classe MLPClassifier\n",
    "mlp = MLPClassifier (hidden_layer_sizes=(10,5), # duas camadas escondidas com 10 e 5 neurônios, respectivamente\n",
    "                    max_iter=2000,              #número máximo de épocas de treinamento\n",
    "                    tol=0.0001,                 #tolerância para determinar a convergência do treinamento\n",
    "                    learning_rate_init=0.1,     #taxa de aprendizado\n",
    "                    solver=\"sgd\",               #estratégia de otimização - gradiente descendente \n",
    "                    activation=\"relu\",          #funcao de ativacao ReLU\n",
    "                    learning_rate=\"constant\",   #taxa de aprendizado constante\n",
    "                    verbose=2,                  #exibe informações detalhadas durante o treinamento\n",
    "                    )\n",
    "\n",
    "#treinando a rede neural MLP com os dados de treino\n",
    "mlp.fit(x_training, y_training)"
   ]
  },
  {
   "cell_type": "code",
   "execution_count": 9,
   "metadata": {},
   "outputs": [
    {
     "name": "stdout",
     "output_type": "stream",
     "text": [
      "Acurácia MLP:  0.9727272727272728\n"
     ]
    }
   ],
   "source": [
    "#previsão das classes para os dados de teste usando a rede neural treinada\n",
    "\n",
    "#previsoes da rede neural no conjunto de teste\n",
    "y_pred_mlp = mlp.predict(x_test) #passa o conjunto de teste para a rede neural prever\n",
    "\n",
    "#calculando a acurácia do modelo\n",
    "accuracy = accuracy_score(y_test, y_pred_mlp)\n",
    "print(\"Acurácia MLP: \", accuracy) #mostra  acurácia\n"
   ]
  },
  {
   "cell_type": "code",
   "execution_count": 10,
   "metadata": {},
   "outputs": [
    {
     "data": {
      "image/png": "[encoded data removed]",
      "text/plain": [
       "<Figure size 640x480 with 1 Axes>"
      ]
     },
     "metadata": {},
     "output_type": "display_data"
    }
   ],
   "source": [
    "#cálculo da acurácia do modelo comparando as previsões com as classes reais\n",
    "#extrai as acurácias de cada época\n",
    "accuracies = mlp.loss_curve_\n",
    "\n",
    "#plota o gráfico de acurácia ao longo das épocas de treinamento\n",
    "plt.plot(range(1, len(accuracies) + 1), accuracies)\n",
    "plt.xlabel('Epoch')\n",
    "plt.ylabel('Accuracy')\n",
    "plt.title('Accuracy Curve')\n",
    "plt.show()\n"
   ]
  },
  {
   "cell_type": "code",
   "execution_count": 11,
   "metadata": {},
   "outputs": [
    {
     "name": "stdout",
     "output_type": "stream",
     "text": [
      "Previsão MLP:  [5.]\n"
     ]
    },
    {
     "name": "stderr",
     "output_type": "stream",
     "text": [
      "C:\\Users\\letic\\AppData\\Local\\Packages\\PythonSoftwareFoundation.Python.3.10_qbz5n2kfra8p0\\LocalCache\\local-packages\\Python310\\site-packages\\sklearn\\base.py:464: UserWarning: X does not have valid feature names, but StandardScaler was fitted with feature names\n",
      "  warnings.warn(\n",
      "C:\\Users\\letic\\AppData\\Local\\Packages\\PythonSoftwareFoundation.Python.3.10_qbz5n2kfra8p0\\LocalCache\\local-packages\\Python310\\site-packages\\sklearn\\base.py:464: UserWarning: X does not have valid feature names, but StandardScaler was fitted with feature names\n",
      "  warnings.warn(\n"
     ]
    }
   ],
   "source": [
    "#previsão da classe para um novo dado\n",
    "#prevendo para um novo dado\n",
    "new = np.array([[2, 1, 0, 2, 0, 0, 0, 0, 0, 0, 0, 0, 0, 0, 1, 1, 1, 1, 0, 0, 0, 0, 0, 1, 0, 0, 0, 0, 0, 0, 0, 0, 0, 0]])\n",
    "new_norm = scaler.transform(new)\n",
    "\n",
    "#verificando o número de recursos nos dados de treinamento\n",
    "num_features = x.shape[1]\n",
    "\n",
    "#certificando de que os novos dados tenham o mesmo número de recursos\n",
    "if new.shape[1] != num_features:\n",
    "    raise ValueError(f\"Os novos dados devem ter {num_features} características, mas tem {new.shape[1]} características.\")\n",
    "\n",
    "#normalizando os novos dados\n",
    "new_data_norm = scaler.transform(new)\n",
    "\n",
    "#previsão usando a Mlp de classificação\n",
    "new_prediction = mlp.predict(new_data_norm)\n",
    "print(\"Previsão MLP: \", new_prediction)"
   ]
  },
  {
   "cell_type": "code",
   "execution_count": 13,
   "metadata": {},
   "outputs": [
    {
     "data": {
      "image/png": "[encoded data removed]",
      "text/plain": [
       "<Figure size 640x480 with 1 Axes>"
      ]
     },
     "metadata": {},
     "output_type": "display_data"
    }
   ],
   "source": [
    "#plotagem de um gráfico de dispersão para comparar as classes previstas com as classes reais\n",
    "plt.scatter(y_pred_mlp, y_test)\n",
    "plt.xlabel('Classes previstas')\n",
    "plt.ylabel('Classe verdadeira')\n",
    "plt.title('Comparação')\n",
    "plt.show()"
   ]
  },
  {
   "cell_type": "code",
   "execution_count": 14,
   "metadata": {},
   "outputs": [
    {
     "data": {
      "image/png": "[encoded data removed]",
      "text/plain": [
       "<Figure size 640x480 with 1 Axes>"
      ]
     },
     "metadata": {},
     "output_type": "display_data"
    }
   ],
   "source": [
    "#plotagem de gráficos para visualizar a relação entre o recurso 1 e as classes reais e previstas\n",
    "x_teste_desnorm = scaler.inverse_transform(x_test)\n",
    "plt.scatter(x_test[:, 0], y_test, label=\"Dados atuais\")\n",
    "plt.scatter(x_test[:, 0], y_pred_mlp, color=\"red\", label=\"Previsão\")\n",
    "plt.xlabel('Feature 1')\n",
    "plt.ylabel('Class')\n",
    "plt.legend(loc=1)\n",
    "plt.show()"
   ]
  },
  {
   "cell_type": "code",
   "execution_count": 16,
   "metadata": {},
   "outputs": [
    {
     "data": {
      "image/png": "[encoded data removed]",
      "text/plain": [
       "<Figure size 800x600 with 2 Axes>"
      ]
     },
     "metadata": {},
     "output_type": "display_data"
    }
   ],
   "source": [
    "#calcula a matriz de confusão usando a função confusion_matrix\n",
    "confusion = confusion_matrix(y_test, y_pred_mlp)\n",
    "\n",
    "# Plota a matriz de confusão usando um mapa de calor (heatmap) para visualização mais clara\n",
    "plt.figure(figsize=(8, 6))\n",
    "sns.heatmap(confusion, annot=True, cmap=\"Blues\")\n",
    "plt.xlabel('Predicted Class')\n",
    "plt.ylabel('True Class')\n",
    "plt.title('Confusion Matrix')\n",
    "plt.show()\n"
   ]
  },
  {
   "cell_type": "code",
   "execution_count": 17,
   "metadata": {},
   "outputs": [
    {
     "name": "stdout",
     "output_type": "stream",
     "text": [
      "              precision    recall  f1-score   support\n",
      "\n",
      "         1.0       1.00      1.00      1.00        40\n",
      "         2.0       0.88      0.94      0.91        16\n",
      "         3.0       1.00      1.00      1.00        19\n",
      "         4.0       0.93      0.87      0.90        15\n",
      "         5.0       1.00      1.00      1.00        16\n",
      "         6.0       1.00      1.00      1.00         4\n",
      "\n",
      "    accuracy                           0.97       110\n",
      "   macro avg       0.97      0.97      0.97       110\n",
      "weighted avg       0.97      0.97      0.97       110\n",
      "\n"
     ]
    }
   ],
   "source": [
    "#geração de um relatório de classificação contendo métricas de avaliação do modelo para cada classe\n",
    "report = classification_report(y_test, y_pred_mlp)\n",
    "print(report)"
   ]
  }
 ],
 "metadata": {
  "kernelspec": {
   "display_name": "Python 3 (ipykernel)",
   "language": "python",
   "name": "python3"
  },
  "language_info": {
   "codemirror_mode": {
    "name": "ipython",
    "version": 3
   },
   "file_extension": ".py",
   "mimetype": "text/x-python",
   "name": "python",
   "nbconvert_exporter": "python",
   "pygments_lexer": "ipython3",
   "version": "3.10.11"
  }
 },
 "nbformat": 4,
 "nbformat_minor": 2
}
